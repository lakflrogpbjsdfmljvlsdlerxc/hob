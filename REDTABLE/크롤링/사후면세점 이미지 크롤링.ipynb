{
 "cells": [
  {
   "cell_type": "code",
   "execution_count": 34,
   "id": "4a33e0ca",
   "metadata": {},
   "outputs": [],
   "source": [
    "import os\n",
    "import time\n",
    "import pandas as pd\n",
    "import pymysql\n",
    "import requests\n",
    "from bs4 import BeautifulSoup\n",
    "from tqdm.auto import tqdm\n",
    "\n",
    "\n",
    "def dev_db_conn():\n",
    "    conn = pymysql.connect( \n",
    "        host = 호스트, \n",
    "        user = 유저, \n",
    "        password = 비밀번호, \n",
    "        autocommit = True, \n",
    "        cursorclass = pymysql.cursors.DictCursor) \n",
    "    return conn\n",
    "\n",
    "\n",
    "file_path = os.path.join(os.environ[\"HOMEPATH\"], \"Downloads/\")\n",
    "download_path = f\"{file_path}사후면세점_이미지/\"\n",
    "\n",
    "# API 키 입력\n",
    "tour_api_key = TOUR_API_KEY\n",
    "\n",
    "# 작업 데이터 불러오기\n",
    "free_tax_shopping = pd.read_excel(f\"{file_path}사후면세점.xlsx\", sheet_name=\"사후면세점_최종\")\n",
    "free_tax_shopping = free_tax_shopping.astype({\"store_id\":\"int\", \"RSTR_ID\":\"int\", \"contentid\":\"int\"})"
   ]
  },
  {
   "cell_type": "code",
   "execution_count": null,
   "id": "f34b96e1",
   "metadata": {},
   "outputs": [],
   "source": [
    "data_list = []\n",
    "except_list = []\n",
    "\n",
    "for i in tqdm(range(len(free_tax_shopping[\"contentid\"]))):\n",
    "    try:\n",
    "        content_id = free_tax_shopping[\"contentid\"][i]\n",
    "        time.sleep(10)\n",
    "        url = f\"http://apis.data.go.kr/B551011/KorService1/detailImage1?ServiceKey={tour_api_key}&contentId=2924134&MobileOS=ETC&MobileApp=AppTest&imageYN=Y&subImageYN=Y&numOfRows=10\"\n",
    "        response = requests.get(url)\n",
    "        response.raise_for_status()\n",
    "\n",
    "        soup = BeautifulSoup(response.content, \"html.parser\")\n",
    "        item = soup.find(\"item\")\n",
    "        if item is not None:\n",
    "            data_list.append({\n",
    "                \"store_id\": free_tax_shopping[\"store_id\"][i],\n",
    "                \"contentid\": item.contentid.get_text() if item.contentid else None,\n",
    "                \"originimgurl\": item.originimgurl.get_text() if item.originimgurl else None,\n",
    "                \"imgname\": item.imgname.get_text() if item.imgname else None,\n",
    "                \"smallimageurl\": item.smallimageurl.get_text() if item.smallimageurl else None,\n",
    "                \"cpyrhtdivcd\": item.cpyrhtdivcd.get_text() if item.cpyrhtdivcd else None,\n",
    "                \"serialnum\": item.serialnum.get_text() if item.serialnum else None\n",
    "            })\n",
    "\n",
    "        else:\n",
    "            except_list.append(content_id)\n",
    "    except:\n",
    "        except_list.append(content_id)\n",
    "    \n",
    "df = pd.DataFrame(data_list, columns=[\"store_id\", \"contentid\", \"originimgurl\", \"imgname\", \"smallimageurl\", \"cpyrhtdivcd\", \"serialnum\"])"
   ]
  }
 ],
 "metadata": {
  "kernelspec": {
   "display_name": "Python 3 (ipykernel)",
   "language": "python",
   "name": "python3"
  },
  "language_info": {
   "codemirror_mode": {
    "name": "ipython",
    "version": 3
   },
   "file_extension": ".py",
   "mimetype": "text/x-python",
   "name": "python",
   "nbconvert_exporter": "python",
   "pygments_lexer": "ipython3",
   "version": "3.9.7"
  }
 },
 "nbformat": 4,
 "nbformat_minor": 5
}
