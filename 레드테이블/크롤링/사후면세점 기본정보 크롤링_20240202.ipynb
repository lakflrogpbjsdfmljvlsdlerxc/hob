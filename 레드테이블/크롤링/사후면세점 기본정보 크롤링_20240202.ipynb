{
 "cells": [
  {
   "cell_type": "code",
   "execution_count": 1,
   "id": "8407113e",
   "metadata": {},
   "outputs": [
    {
     "data": {
      "application/vnd.jupyter.widget-view+json": {
       "model_id": "d19bbde1554b4a009fe903681699a328",
       "version_major": 2,
       "version_minor": 0
      },
      "text/plain": [
       "  0%|          | 0/39 [00:00<?, ?it/s]"
      ]
     },
     "metadata": {},
     "output_type": "display_data"
    }
   ],
   "source": [
    "import requests\n",
    "from bs4 import BeautifulSoup\n",
    "import pandas as pd\n",
    "from tqdm.auto import tqdm\n",
    "import time\n",
    "\n",
    "tour_api_key = \"FWAqzRxHZ2qHazqORF1lwHZdQ2SvfbXj24jY5sBUhe9rVOV3SiPd9nFM9eCrHFydKxoc1wl4Y4d2iccHv15QFg%3D%3D\" # Hob\n",
    "\n",
    "# 데이터를 저장할 리스트 초기화\n",
    "data_list = []\n",
    "except_list = []\n",
    "\n",
    "# API 호출 및 데이터 수집 \n",
    "for page_number in tqdm(range(1, 40)): \n",
    "    url = f\"http://apis.data.go.kr/B551011/JpnService1/areaBasedList1?numOfRows=200&pageNo={page_number}&MobileOS=ETC&MobileApp=AppTest&ServiceKey={tour_api_key}&listYN=Y&arrange=A&contentTypeId=79&areaCode=&sigunguCode=&cat1=A04&cat2=A0401&cat3=A04011000\"\n",
    "\n",
    "    time.sleep(8)\n",
    "    try:\n",
    "        response = requests.get(url)\n",
    "        response.raise_for_status()  # 상태 코드가 200이 아닌 경우 예외를 발생시킵니다.\n",
    "\n",
    "        soup = BeautifulSoup(response.content, \"html.parser\")\n",
    "        items = soup.find(\"items\")\n",
    "\n",
    "        if items is not None:\n",
    "            for item in items.findAll(\"item\"):\n",
    "                data_list.append({\n",
    "                    \"contentid\": item.contentid.get_text() if item.contentid else None,\n",
    "                    \"contenttypeid\": item.contenttypeid.get_text() if item.contenttypeid else None,\n",
    "                    \"title\": item.title.get_text() if item.title else None,\n",
    "                    \"addr1\": item.addr1.get_text() if item.addr1 else None,\n",
    "                    \"addr2\": item.addr2.get_text() if item.addr2 else None,\n",
    "                    \"mapx\": item.mapx.get_text() if item.mapx else None,\n",
    "                    \"mapy\": item.mapy.get_text() if item.mapy else None,\n",
    "                    \"firstimage\": item.firstimage.get_text() if item.firstimage else None,\n",
    "                    \"firstimage2\": item.firstimage2.get_text() if item.firstimage2 else None,\n",
    "                    \"createdtime\": item.createdtime.get_text() if item.createdtime else None,\n",
    "                    \"modifiedtime\":item.modifiedtime.get_text() if item.modifiedtime else None,\n",
    "                    \"zipcode\": item.zipcode.get_text() if item.zipcode else None\n",
    "                })\n",
    "        else:\n",
    "            print(f\"No items found on page {page_number}.\")\n",
    "            except_list.append(page_number)\n",
    "    except:\n",
    "        except_list.append(page_number)\n",
    "\n",
    "# 데이터 리스트를 DataFrame으로 변환\n",
    "df = pd.DataFrame(data_list, columns=[\"contentid\", \"contenttypeid\", \"title\", \"addr1\", \"addr2\",\n",
    "                                      \"mapx\", \"mapy\", \"firstimage\", \"firstimage2\", \"createdtime\",\n",
    "                                      \"modifiedtime\", \"zipcode\"])"
   ]
  },
  {
   "cell_type": "code",
   "execution_count": 3,
   "id": "ef9003be",
   "metadata": {},
   "outputs": [],
   "source": [
    "df.to_excel(\"일본어사후면세점기본정보.xlsx\",index=False)"
   ]
  },
  {
   "cell_type": "code",
   "execution_count": 4,
   "id": "cc471d7a",
   "metadata": {},
   "outputs": [
    {
     "data": {
      "application/vnd.jupyter.widget-view+json": {
       "model_id": "2c8dcda04b72498a94f3e5c198ab5108",
       "version_major": 2,
       "version_minor": 0
      },
      "text/plain": [
       "  0%|          | 0/39 [00:00<?, ?it/s]"
      ]
     },
     "metadata": {},
     "output_type": "display_data"
    }
   ],
   "source": [
    "tour_api_key = \"FWAqzRxHZ2qHazqORF1lwHZdQ2SvfbXj24jY5sBUhe9rVOV3SiPd9nFM9eCrHFydKxoc1wl4Y4d2iccHv15QFg%3D%3D\" # Hob\n",
    "\n",
    "# 데이터를 저장할 리스트 초기화\n",
    "data_list = []\n",
    "except_list = []\n",
    "\n",
    "# API 호출 및 데이터 수집 \n",
    "for page_number in tqdm(range(1, 40)): \n",
    "    url = f\"http://apis.data.go.kr/B551011/ChsService1/areaBasedList1?numOfRows=200&pageNo={page_number}&MobileOS=ETC&MobileApp=AppTest&ServiceKey={tour_api_key}&listYN=Y&arrange=A&contentTypeId=79&areaCode=&sigunguCode=&cat1=A04&cat2=A0401&cat3=A04011000\"\n",
    "\n",
    "    time.sleep(8)\n",
    "    try:\n",
    "        response = requests.get(url)\n",
    "        response.raise_for_status()  # 상태 코드가 200이 아닌 경우 예외를 발생시킵니다.\n",
    "\n",
    "        soup = BeautifulSoup(response.content, \"html.parser\")\n",
    "        items = soup.find(\"items\")\n",
    "\n",
    "        if items is not None:\n",
    "            for item in items.findAll(\"item\"):\n",
    "                data_list.append({\n",
    "                    \"contentid\": item.contentid.get_text() if item.contentid else None,\n",
    "                    \"contenttypeid\": item.contenttypeid.get_text() if item.contenttypeid else None,\n",
    "                    \"title\": item.title.get_text() if item.title else None,\n",
    "                    \"addr1\": item.addr1.get_text() if item.addr1 else None,\n",
    "                    \"addr2\": item.addr2.get_text() if item.addr2 else None,\n",
    "                    \"mapx\": item.mapx.get_text() if item.mapx else None,\n",
    "                    \"mapy\": item.mapy.get_text() if item.mapy else None,\n",
    "                    \"firstimage\": item.firstimage.get_text() if item.firstimage else None,\n",
    "                    \"firstimage2\": item.firstimage2.get_text() if item.firstimage2 else None,\n",
    "                    \"createdtime\": item.createdtime.get_text() if item.createdtime else None,\n",
    "                    \"modifiedtime\":item.modifiedtime.get_text() if item.modifiedtime else None,\n",
    "                    \"zipcode\": item.zipcode.get_text() if item.zipcode else None\n",
    "                })\n",
    "        else:\n",
    "            print(f\"No items found on page {page_number}.\")\n",
    "            except_list.append(page_number)\n",
    "    except:\n",
    "        except_list.append(page_number)\n",
    "\n",
    "# 데이터 리스트를 DataFrame으로 변환\n",
    "df = pd.DataFrame(data_list, columns=[\"contentid\", \"contenttypeid\", \"title\", \"addr1\", \"addr2\",\n",
    "                                      \"mapx\", \"mapy\", \"firstimage\", \"firstimage2\", \"createdtime\",\n",
    "                                      \"modifiedtime\", \"zipcode\"])"
   ]
  },
  {
   "cell_type": "code",
   "execution_count": 5,
   "id": "aeb89f7f",
   "metadata": {},
   "outputs": [],
   "source": [
    "df.to_excel(\"중국어간체사후면세점기본정보.xlsx\",index=False)"
   ]
  },
  {
   "cell_type": "code",
   "execution_count": 6,
   "id": "712483ab",
   "metadata": {},
   "outputs": [
    {
     "data": {
      "application/vnd.jupyter.widget-view+json": {
       "model_id": "dc0a9384c151447dbb21fe62b8418a7d",
       "version_major": 2,
       "version_minor": 0
      },
      "text/plain": [
       "  0%|          | 0/39 [00:00<?, ?it/s]"
      ]
     },
     "metadata": {},
     "output_type": "display_data"
    }
   ],
   "source": [
    "tour_api_key = \"FWAqzRxHZ2qHazqORF1lwHZdQ2SvfbXj24jY5sBUhe9rVOV3SiPd9nFM9eCrHFydKxoc1wl4Y4d2iccHv15QFg%3D%3D\" # Hob\n",
    "\n",
    "# 데이터를 저장할 리스트 초기화\n",
    "data_list = []\n",
    "except_list = []\n",
    "\n",
    "# API 호출 및 데이터 수집 \n",
    "for page_number in tqdm(range(1, 40)): \n",
    "    url = f\"http://apis.data.go.kr/B551011/ChtService1/areaBasedList1?numOfRows=200&pageNo={page_number}&MobileOS=ETC&MobileApp=AppTest&ServiceKey={tour_api_key}&listYN=Y&arrange=A&contentTypeId=79&areaCode=&sigunguCode=&cat1=A04&cat2=A0401&cat3=A04011000\"\n",
    "\n",
    "    time.sleep(8)\n",
    "    try:\n",
    "        response = requests.get(url)\n",
    "        response.raise_for_status()  # 상태 코드가 200이 아닌 경우 예외를 발생시킵니다.\n",
    "\n",
    "        soup = BeautifulSoup(response.content, \"html.parser\")\n",
    "        items = soup.find(\"items\")\n",
    "\n",
    "        if items is not None:\n",
    "            for item in items.findAll(\"item\"):\n",
    "                data_list.append({\n",
    "                    \"contentid\": item.contentid.get_text() if item.contentid else None,\n",
    "                    \"contenttypeid\": item.contenttypeid.get_text() if item.contenttypeid else None,\n",
    "                    \"title\": item.title.get_text() if item.title else None,\n",
    "                    \"addr1\": item.addr1.get_text() if item.addr1 else None,\n",
    "                    \"addr2\": item.addr2.get_text() if item.addr2 else None,\n",
    "                    \"mapx\": item.mapx.get_text() if item.mapx else None,\n",
    "                    \"mapy\": item.mapy.get_text() if item.mapy else None,\n",
    "                    \"firstimage\": item.firstimage.get_text() if item.firstimage else None,\n",
    "                    \"firstimage2\": item.firstimage2.get_text() if item.firstimage2 else None,\n",
    "                    \"createdtime\": item.createdtime.get_text() if item.createdtime else None,\n",
    "                    \"modifiedtime\":item.modifiedtime.get_text() if item.modifiedtime else None,\n",
    "                    \"zipcode\": item.zipcode.get_text() if item.zipcode else None\n",
    "                })\n",
    "        else:\n",
    "            print(f\"No items found on page {page_number}.\")\n",
    "            except_list.append(page_number)\n",
    "    except:\n",
    "        except_list.append(page_number)\n",
    "\n",
    "# 데이터 리스트를 DataFrame으로 변환\n",
    "df = pd.DataFrame(data_list, columns=[\"contentid\", \"contenttypeid\", \"title\", \"addr1\", \"addr2\",\n",
    "                                      \"mapx\", \"mapy\", \"firstimage\", \"firstimage2\", \"createdtime\",\n",
    "                                      \"modifiedtime\", \"zipcode\"])"
   ]
  },
  {
   "cell_type": "code",
   "execution_count": 7,
   "id": "199f349a",
   "metadata": {},
   "outputs": [],
   "source": [
    "df.to_excel(\"중국어번체사후면세점기본정보.xlsx\",index=False)"
   ]
  },
  {
   "cell_type": "code",
   "execution_count": null,
   "id": "930e30bd",
   "metadata": {},
   "outputs": [],
   "source": []
  }
 ],
 "metadata": {
  "kernelspec": {
   "display_name": "Python 3 (ipykernel)",
   "language": "python",
   "name": "python3"
  },
  "language_info": {
   "codemirror_mode": {
    "name": "ipython",
    "version": 3
   },
   "file_extension": ".py",
   "mimetype": "text/x-python",
   "name": "python",
   "nbconvert_exporter": "python",
   "pygments_lexer": "ipython3",
   "version": "3.9.7"
  }
 },
 "nbformat": 4,
 "nbformat_minor": 5
}
